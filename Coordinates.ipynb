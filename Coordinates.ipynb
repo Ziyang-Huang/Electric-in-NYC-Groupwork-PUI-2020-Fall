{
 "cells": [
  {
   "cell_type": "code",
   "execution_count": 1,
   "metadata": {},
   "outputs": [],
   "source": [
    "import os\n",
    "import urllib.request\n",
    "import pandas as pd\n",
    "import geopandas as gpd\n",
    "import numpy as np\n",
    "import matplotlib.pyplot as plt\n",
    "# import warnings\n",
    "# warnings.filterwarnings('ignore')\n",
    "%matplotlib inline"
   ]
  },
  {
   "cell_type": "code",
   "execution_count": 2,
   "metadata": {},
   "outputs": [],
   "source": [
    "if not os.path.exists('Data'):\n",
    "    !mkdir Data\n",
    "    print('creating folder \"Data\"')\n",
    "if not os.path.exists('Data/NYCHA'):\n",
    "    !mkdir Data\\NYCHA\n",
    "    print('creating folder \"Data/NYCHA\"')"
   ]
  },
  {
   "cell_type": "code",
   "execution_count": 3,
   "metadata": {},
   "outputs": [],
   "source": [
    "# Download Map of NYCHA Developments, shapefile\n",
    "if not os.path.exists('Data/NYCHA/Map_of_NYCHA_Developments.zip'):\n",
    "    NYCHA_map_shape_url = 'https://data.cityofnewyork.us/api/geospatial/i9rv-hdr5?method=export&format=Shapefile'\n",
    "    urllib.request.urlretrieve(NYCHA_map_shape_url,'Data/NYCHA/Map_of_NYCHA_Developments.zip')\n",
    "    print('done')"
   ]
  },
  {
   "cell_type": "code",
   "execution_count": 4,
   "metadata": {},
   "outputs": [],
   "source": [
    "# Download NYCHA_Development_Data_Book.csv\n",
    "if not os.path.exists('Data/NYCHA/NYCHA_Development_Data_Book.csv'):\n",
    "    NYCHA_Development_url = 'https://data.cityofnewyork.us/api/views/evjd-dqpz/rows.csv?accessType=DOWNLOAD'\n",
    "    urllib.request.urlretrieve(NYCHA_Development_url,'Data/NYCHA/NYCHA_Development_Data_Book.csv')\n",
    "    print('done')"
   ]
  },
  {
   "cell_type": "code",
   "execution_count": 5,
   "metadata": {},
   "outputs": [],
   "source": [
    "import zipfile\n",
    "with zipfile.ZipFile('Data/NYCHA/Map_of_NYCHA_Developments.zip', 'r') as zip_ref:\n",
    "    zip_ref.extractall('Data/NYCHA/Map_of_NYCHA_Developments')"
   ]
  },
  {
   "cell_type": "code",
   "execution_count": 6,
   "metadata": {},
   "outputs": [
    {
     "data": {
      "text/plain": [
       "(302, 4)"
      ]
     },
     "execution_count": 6,
     "metadata": {},
     "output_type": "execute_result"
    }
   ],
   "source": [
    "shapefile = os.listdir('Data/NYCHA/Map_of_NYCHA_Developments')[2]\n",
    "dev_geo = gpd.read_file('Data/NYCHA/Map_of_NYCHA_Developments/' + shapefile)\n",
    "dev_geo.tds_num = pd.to_numeric(dev_geo.tds_num, errors='coerce')\n",
    "dev_geo.shape"
   ]
  },
  {
   "cell_type": "code",
   "execution_count": 7,
   "metadata": {},
   "outputs": [
    {
     "data": {
      "text/html": [
       "<div>\n",
       "<style scoped>\n",
       "    .dataframe tbody tr th:only-of-type {\n",
       "        vertical-align: middle;\n",
       "    }\n",
       "\n",
       "    .dataframe tbody tr th {\n",
       "        vertical-align: top;\n",
       "    }\n",
       "\n",
       "    .dataframe thead th {\n",
       "        text-align: right;\n",
       "    }\n",
       "</style>\n",
       "<table border=\"1\" class=\"dataframe\">\n",
       "  <thead>\n",
       "    <tr style=\"text-align: right;\">\n",
       "      <th></th>\n",
       "      <th>borough</th>\n",
       "      <th>developmen</th>\n",
       "      <th>tds_num</th>\n",
       "      <th>geometry</th>\n",
       "    </tr>\n",
       "  </thead>\n",
       "  <tbody>\n",
       "    <tr>\n",
       "      <th>0</th>\n",
       "      <td>BRONX</td>\n",
       "      <td>1010 EAST 178TH STREET</td>\n",
       "      <td>180</td>\n",
       "      <td>POLYGON ((-73.88092 40.84050, -73.88068 40.840...</td>\n",
       "    </tr>\n",
       "    <tr>\n",
       "      <th>1</th>\n",
       "      <td>BROOKLYN</td>\n",
       "      <td>104-14 TAPSCOTT STREET</td>\n",
       "      <td>242</td>\n",
       "      <td>POLYGON ((-73.92039 40.66498, -73.92074 40.664...</td>\n",
       "    </tr>\n",
       "    <tr>\n",
       "      <th>2</th>\n",
       "      <td>BRONX</td>\n",
       "      <td>1162-1176 WASHINGTON AVENUE</td>\n",
       "      <td>233</td>\n",
       "      <td>POLYGON ((-73.90694 40.83009, -73.90705 40.829...</td>\n",
       "    </tr>\n",
       "    <tr>\n",
       "      <th>3</th>\n",
       "      <td>MANHATTAN</td>\n",
       "      <td>131 SAINT NICHOLAS AVENUE</td>\n",
       "      <td>154</td>\n",
       "      <td>POLYGON ((-73.95286 40.80376, -73.95317 40.803...</td>\n",
       "    </tr>\n",
       "    <tr>\n",
       "      <th>4</th>\n",
       "      <td>BRONX</td>\n",
       "      <td>1471 WATSON AVENUE</td>\n",
       "      <td>214</td>\n",
       "      <td>POLYGON ((-73.88106 40.82640, -73.88099 40.826...</td>\n",
       "    </tr>\n",
       "  </tbody>\n",
       "</table>\n",
       "</div>"
      ],
      "text/plain": [
       "     borough                   developmen  tds_num  \\\n",
       "0      BRONX       1010 EAST 178TH STREET      180   \n",
       "1   BROOKLYN       104-14 TAPSCOTT STREET      242   \n",
       "2      BRONX  1162-1176 WASHINGTON AVENUE      233   \n",
       "3  MANHATTAN    131 SAINT NICHOLAS AVENUE      154   \n",
       "4      BRONX           1471 WATSON AVENUE      214   \n",
       "\n",
       "                                            geometry  \n",
       "0  POLYGON ((-73.88092 40.84050, -73.88068 40.840...  \n",
       "1  POLYGON ((-73.92039 40.66498, -73.92074 40.664...  \n",
       "2  POLYGON ((-73.90694 40.83009, -73.90705 40.829...  \n",
       "3  POLYGON ((-73.95286 40.80376, -73.95317 40.803...  \n",
       "4  POLYGON ((-73.88106 40.82640, -73.88099 40.826...  "
      ]
     },
     "execution_count": 7,
     "metadata": {},
     "output_type": "execute_result"
    }
   ],
   "source": [
    "dev_geo.head()"
   ]
  },
  {
   "cell_type": "code",
   "execution_count": 8,
   "metadata": {},
   "outputs": [
    {
     "data": {
      "text/plain": [
       "<Geographic 2D CRS: EPSG:4326>\n",
       "Name: WGS 84\n",
       "Axis Info [ellipsoidal]:\n",
       "- Lat[north]: Geodetic latitude (degree)\n",
       "- Lon[east]: Geodetic longitude (degree)\n",
       "Area of Use:\n",
       "- name: World\n",
       "- bounds: (-180.0, -90.0, 180.0, 90.0)\n",
       "Datum: World Geodetic System 1984\n",
       "- Ellipsoid: WGS 84\n",
       "- Prime Meridian: Greenwich"
      ]
     },
     "execution_count": 8,
     "metadata": {},
     "output_type": "execute_result"
    }
   ],
   "source": [
    "dev_geo.crs"
   ]
  },
  {
   "cell_type": "code",
   "execution_count": 9,
   "metadata": {},
   "outputs": [
    {
     "data": {
      "text/plain": [
       "<AxesSubplot:>"
      ]
     },
     "execution_count": 9,
     "metadata": {},
     "output_type": "execute_result"
    },
    {
     "data": {
      "image/png": "[encoded data removed]",
      "text/plain": [
       "<Figure size 720x720 with 1 Axes>"
      ]
     },
     "metadata": {
      "needs_background": "light"
     },
     "output_type": "display_data"
    }
   ],
   "source": [
    "dev_geo.plot(figsize=(10,10),aspect='equal')"
   ]
  },
  {
   "cell_type": "code",
   "execution_count": 10,
   "metadata": {},
   "outputs": [
    {
     "data": {
      "text/plain": [
       "(323, 51)"
      ]
     },
     "execution_count": 10,
     "metadata": {},
     "output_type": "execute_result"
    }
   ],
   "source": [
    "developments = pd.read_csv('Data/NYCHA/NYCHA_Development_Data_Book.csv')\n",
    "developments.columns = [col.replace('#','') for col in developments.columns]\n",
    "developments['TDS'] = pd.to_numeric(developments['TDS'], errors='coerce')\n",
    "developments.shape"
   ]
  },
  {
   "cell_type": "code",
   "execution_count": 11,
   "metadata": {},
   "outputs": [
    {
     "data": {
      "text/plain": [
       "(319, 51)"
      ]
     },
     "execution_count": 11,
     "metadata": {},
     "output_type": "execute_result"
    }
   ],
   "source": [
    "developments.dropna(subset=['TDS'],inplace=True)\n",
    "developments['TDS'] = developments['TDS'].apply(int)\n",
    "developments.shape"
   ]
  },
  {
   "cell_type": "code",
   "execution_count": 12,
   "metadata": {},
   "outputs": [
    {
     "data": {
      "text/html": [
       "<div>\n",
       "<style scoped>\n",
       "    .dataframe tbody tr th:only-of-type {\n",
       "        vertical-align: middle;\n",
       "    }\n",
       "\n",
       "    .dataframe tbody tr th {\n",
       "        vertical-align: top;\n",
       "    }\n",
       "\n",
       "    .dataframe thead th {\n",
       "        text-align: right;\n",
       "    }\n",
       "</style>\n",
       "<table border=\"1\" class=\"dataframe\">\n",
       "  <thead>\n",
       "    <tr style=\"text-align: right;\">\n",
       "      <th></th>\n",
       "      <th>DATA AS OF</th>\n",
       "      <th>DEVELOPMENT</th>\n",
       "      <th>HUD AMP</th>\n",
       "      <th>TDS</th>\n",
       "      <th>CONSOLIDATED TDS</th>\n",
       "      <th>DEVELOPMENT EDP</th>\n",
       "      <th>OPERATING EDP</th>\n",
       "      <th>HUD</th>\n",
       "      <th>PROGRAM</th>\n",
       "      <th>METHOD</th>\n",
       "      <th>...</th>\n",
       "      <th>COMMUNITY DISTIRCT</th>\n",
       "      <th>US CONGRESSIONAL DISTRICT</th>\n",
       "      <th>NY STATE SENATE DISTRICT</th>\n",
       "      <th>NY STATE ASSEMBLY DISTRICT</th>\n",
       "      <th>NY CITY COUNCIL DISTRICT</th>\n",
       "      <th>COMPLETION DATE</th>\n",
       "      <th>FEDERALIZED DEVELOPMENT</th>\n",
       "      <th>SENIOR DEVELOPMENT</th>\n",
       "      <th>ELECTRICITY PAID BY RESIDENTS</th>\n",
       "      <th>PRIVATE MANAGEMENT</th>\n",
       "    </tr>\n",
       "  </thead>\n",
       "  <tbody>\n",
       "    <tr>\n",
       "      <th>0</th>\n",
       "      <td>1/1/2019</td>\n",
       "      <td>1010 EAST 178TH STREET</td>\n",
       "      <td>NY005011330</td>\n",
       "      <td>180</td>\n",
       "      <td>180</td>\n",
       "      <td>289</td>\n",
       "      <td>289</td>\n",
       "      <td>NY005090</td>\n",
       "      <td>FEDERAL</td>\n",
       "      <td>CONVENTIONAL</td>\n",
       "      <td>...</td>\n",
       "      <td>6</td>\n",
       "      <td>15</td>\n",
       "      <td>32</td>\n",
       "      <td>87</td>\n",
       "      <td>15</td>\n",
       "      <td>3/31/1971</td>\n",
       "      <td>NaN</td>\n",
       "      <td>NaN</td>\n",
       "      <td>NaN</td>\n",
       "      <td>NaN</td>\n",
       "    </tr>\n",
       "    <tr>\n",
       "      <th>1</th>\n",
       "      <td>1/1/2019</td>\n",
       "      <td>104-14 TAPSCOTT STREET</td>\n",
       "      <td>NY005011670</td>\n",
       "      <td>242</td>\n",
       "      <td>167</td>\n",
       "      <td>361</td>\n",
       "      <td>283</td>\n",
       "      <td>NY005174</td>\n",
       "      <td>FEDERAL</td>\n",
       "      <td>TURNKEY</td>\n",
       "      <td>...</td>\n",
       "      <td>16</td>\n",
       "      <td>9</td>\n",
       "      <td>20</td>\n",
       "      <td>55</td>\n",
       "      <td>41</td>\n",
       "      <td>10/31/1972</td>\n",
       "      <td>NaN</td>\n",
       "      <td>NaN</td>\n",
       "      <td>NaN</td>\n",
       "      <td>NaN</td>\n",
       "    </tr>\n",
       "    <tr>\n",
       "      <th>2</th>\n",
       "      <td>1/1/2019</td>\n",
       "      <td>1162-1176 WASHINGTON AVENUE</td>\n",
       "      <td>NY005013080</td>\n",
       "      <td>233</td>\n",
       "      <td>308</td>\n",
       "      <td>354</td>\n",
       "      <td>344</td>\n",
       "      <td>NY005138</td>\n",
       "      <td>FEDERAL</td>\n",
       "      <td>TURNKEY</td>\n",
       "      <td>...</td>\n",
       "      <td>3</td>\n",
       "      <td>15</td>\n",
       "      <td>32</td>\n",
       "      <td>79</td>\n",
       "      <td>16</td>\n",
       "      <td>12/31/1975</td>\n",
       "      <td>NaN</td>\n",
       "      <td>NaN</td>\n",
       "      <td>NaN</td>\n",
       "      <td>NaN</td>\n",
       "    </tr>\n",
       "    <tr>\n",
       "      <th>3</th>\n",
       "      <td>1/1/2019</td>\n",
       "      <td>131 SAINT NICHOLAS AVENUE</td>\n",
       "      <td>NY005010970</td>\n",
       "      <td>154</td>\n",
       "      <td>097</td>\n",
       "      <td>264</td>\n",
       "      <td>261</td>\n",
       "      <td>NY005065</td>\n",
       "      <td>FEDERAL</td>\n",
       "      <td>CONVENTIONAL</td>\n",
       "      <td>...</td>\n",
       "      <td>10</td>\n",
       "      <td>13</td>\n",
       "      <td>30</td>\n",
       "      <td>70</td>\n",
       "      <td>09</td>\n",
       "      <td>3/31/1965</td>\n",
       "      <td>NaN</td>\n",
       "      <td>NaN</td>\n",
       "      <td>NaN</td>\n",
       "      <td>NaN</td>\n",
       "    </tr>\n",
       "    <tr>\n",
       "      <th>4</th>\n",
       "      <td>1/1/2019</td>\n",
       "      <td>1471 WATSON AVENUE</td>\n",
       "      <td>NY005010670</td>\n",
       "      <td>214</td>\n",
       "      <td>067</td>\n",
       "      <td>332</td>\n",
       "      <td>222</td>\n",
       "      <td>NY005162</td>\n",
       "      <td>FEDERAL</td>\n",
       "      <td>TURNKEY</td>\n",
       "      <td>...</td>\n",
       "      <td>9</td>\n",
       "      <td>15</td>\n",
       "      <td>32</td>\n",
       "      <td>85</td>\n",
       "      <td>17</td>\n",
       "      <td>12/31/1970</td>\n",
       "      <td>NaN</td>\n",
       "      <td>NaN</td>\n",
       "      <td>NaN</td>\n",
       "      <td>NaN</td>\n",
       "    </tr>\n",
       "  </tbody>\n",
       "</table>\n",
       "<p>5 rows × 51 columns</p>\n",
       "</div>"
      ],
      "text/plain": [
       "  DATA AS OF                  DEVELOPMENT      HUD AMP  TDS CONSOLIDATED TDS  \\\n",
       "0   1/1/2019       1010 EAST 178TH STREET  NY005011330  180              180   \n",
       "1   1/1/2019       104-14 TAPSCOTT STREET  NY005011670  242              167   \n",
       "2   1/1/2019  1162-1176 WASHINGTON AVENUE  NY005013080  233              308   \n",
       "3   1/1/2019    131 SAINT NICHOLAS AVENUE  NY005010970  154              097   \n",
       "4   1/1/2019           1471 WATSON AVENUE  NY005010670  214              067   \n",
       "\n",
       "  DEVELOPMENT EDP OPERATING EDP      HUD   PROGRAM        METHOD  ...  \\\n",
       "0             289           289  NY005090  FEDERAL  CONVENTIONAL  ...   \n",
       "1             361           283  NY005174  FEDERAL       TURNKEY  ...   \n",
       "2             354           344  NY005138  FEDERAL       TURNKEY  ...   \n",
       "3             264           261  NY005065  FEDERAL  CONVENTIONAL  ...   \n",
       "4             332           222  NY005162  FEDERAL       TURNKEY  ...   \n",
       "\n",
       "  COMMUNITY DISTIRCT  US CONGRESSIONAL DISTRICT NY STATE SENATE DISTRICT  \\\n",
       "0                  6                         15                       32   \n",
       "1                 16                          9                       20   \n",
       "2                  3                         15                       32   \n",
       "3                 10                         13                       30   \n",
       "4                  9                         15                       32   \n",
       "\n",
       "  NY STATE ASSEMBLY DISTRICT NY CITY COUNCIL DISTRICT  COMPLETION DATE  \\\n",
       "0                         87                       15        3/31/1971   \n",
       "1                         55                       41       10/31/1972   \n",
       "2                         79                       16       12/31/1975   \n",
       "3                         70                       09        3/31/1965   \n",
       "4                         85                       17       12/31/1970   \n",
       "\n",
       "   FEDERALIZED DEVELOPMENT SENIOR DEVELOPMENT ELECTRICITY PAID BY RESIDENTS  \\\n",
       "0                      NaN                NaN                           NaN   \n",
       "1                      NaN                NaN                           NaN   \n",
       "2                      NaN                NaN                           NaN   \n",
       "3                      NaN                NaN                           NaN   \n",
       "4                      NaN                NaN                           NaN   \n",
       "\n",
       "   PRIVATE MANAGEMENT  \n",
       "0                 NaN  \n",
       "1                 NaN  \n",
       "2                 NaN  \n",
       "3                 NaN  \n",
       "4                 NaN  \n",
       "\n",
       "[5 rows x 51 columns]"
      ]
     },
     "execution_count": 12,
     "metadata": {},
     "output_type": "execute_result"
    }
   ],
   "source": [
    "developments.head()"
   ]
  },
  {
   "cell_type": "code",
   "execution_count": 13,
   "metadata": {},
   "outputs": [
    {
     "data": {
      "text/plain": [
       "(302, 55)"
      ]
     },
     "execution_count": 13,
     "metadata": {},
     "output_type": "execute_result"
    }
   ],
   "source": [
    "developments_geo = developments.merge(dev_geo, left_on='TDS', right_on='tds_num')\n",
    "developments_geo = gpd.GeoDataFrame(developments_geo)\n",
    "developments_geo.shape"
   ]
  },
  {
   "cell_type": "code",
   "execution_count": 14,
   "metadata": {
    "scrolled": false
   },
   "outputs": [
    {
     "data": {
      "text/plain": [
       "<AxesSubplot:>"
      ]
     },
     "execution_count": 14,
     "metadata": {},
     "output_type": "execute_result"
    },
    {
     "data": {
      "image/png": "[encoded data removed]",
      "text/plain": [
       "<Figure size 720x720 with 1 Axes>"
      ]
     },
     "metadata": {
      "needs_background": "light"
     },
     "output_type": "display_data"
    }
   ],
   "source": [
    "developments_geo.plot(figsize=(10,10),aspect='equal',column='PROGRAM',legend=True)"
   ]
  }
 ],
 "metadata": {
  "kernelspec": {
   "display_name": "geopandas_env",
   "language": "python",
   "name": "geopandas_env"
  },
  "language_info": {
   "codemirror_mode": {
    "name": "ipython",
    "version": 3
   },
   "file_extension": ".py",
   "mimetype": "text/x-python",
   "name": "python",
   "nbconvert_exporter": "python",
   "pygments_lexer": "ipython3",
   "version": "3.8.5"
  }
 },
 "nbformat": 4,
 "nbformat_minor": 4
}
